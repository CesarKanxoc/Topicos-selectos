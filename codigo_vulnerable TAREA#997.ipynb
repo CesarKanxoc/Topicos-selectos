{
  "nbformat": 4,
  "nbformat_minor": 0,
  "metadata": {
    "colab": {
      "provenance": []
    },
    "kernelspec": {
      "name": "python3",
      "display_name": "Python 3"
    },
    "language_info": {
      "name": "python"
    }
  },
  "cells": [
    {
      "cell_type": "markdown",
      "source": [
        "# **Ejemplo de código inseguro: código inmaduro que no tiene un adecuado control y registro de errores, muy probablemente no ha sido probado en profundidad y no se conoce plenamente el comportamiento que tendrá en un entorno de producción.**"
      ],
      "metadata": {
        "id": "hcWBQ8RUDA5L"
      }
    },
    {
      "cell_type": "code",
      "execution_count": null,
      "metadata": {
        "id": "RyUuMaJYC8hs"
      },
      "outputs": [],
      "source": [
        "numbers = [0, 0]\n",
        "\n",
        "try:\n",
        "    numbers[0] = 23\n",
        "    numbers[1] = 32\n",
        "    numbers[2] = 42\n",
        "\n",
        "    for i in numbers:\n",
        "        print(i)\n",
        "except Exception as ex:\n",
        "    pass  # No hacer nada"
      ]
    },
    {
      "cell_type": "markdown",
      "source": [
        "# **Ejemplo de código seguro: código con una disposición de control de errores aparentemente adecuada. Controlando y registrando en primer lugar probables excepciones concretas, que han sido revisadas durante las pruebas, para después pasar a la posibilidad de un correcto registro de una no esperada y de forma más genérica.**"
      ],
      "metadata": {
        "id": "-HENKY31D9Lw"
      }
    },
    {
      "cell_type": "code",
      "source": [
        "mensaje = \"\"\n",
        "numbers = [0, 0]\n",
        "\n",
        "try:\n",
        "    numbers[0] = 23\n",
        "    numbers[1] = 32\n",
        "    numbers[2] = 42\n",
        "\n",
        "    for i in numbers:\n",
        "        print(str(i))\n",
        "except IndexError as ex:\n",
        "    mensaje = \"Mensaje de error: \" + str(ex)\n",
        "    # Siempre registraremos todas las excepciones\n",
        "    print(\"Rellenando el arreglo - ¡Un índice estaba fuera de rango!: \" + str(ex))\n",
        "except Exception as ex:\n",
        "    mensaje = \"Mensaje de error: \" + str(ex)\n",
        "    print(\"Algún tipo de error inesperado ocurrió: \" + str(ex))\n",
        "    # En casos en los que debamos controlar la ocurrencia de un error pero seguir adelante con él, usaremos raise sin más:\n",
        "    # raise ex  # MAL: relanza la excepción pero limpia el stack trace\n",
        "    # raise   # BIEN: relanza la excepción manteniendo el stack trace original\n",
        "finally:\n",
        "    # Si tuviéramos que liberar algún recurso o realizar alguna acción final, este es el lugar\n",
        "    pass"
      ],
      "metadata": {
        "id": "kxNmOapjD8QC"
      },
      "execution_count": null,
      "outputs": []
    }
  ]
}